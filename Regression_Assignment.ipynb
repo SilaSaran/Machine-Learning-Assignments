{
 "cells": [
  {
   "cell_type": "markdown",
   "id": "641fd0a4-3773-4cd0-8db5-1ae97f0ee7f6",
   "metadata": {},
   "source": [
    "## Step 1: Load Required Libraries\n",
    "We begin by importing necessary Python libraries such as:\n",
    "- `numpy` and `pandas` for data manipulation\n",
    "- `matplotlib` and `seaborn` for visualization\n",
    "- `sklearn` for dataset loading, preprocessing, model implementation, and evaluation.\n"
   ]
  },
  {
   "cell_type": "code",
   "execution_count": 2,
   "id": "eb4a10cb-7f6d-4bfc-a9ca-c1bff457c702",
   "metadata": {},
   "outputs": [],
   "source": [
    "#Load Required Libraries\n",
    "\n",
    "import numpy as np\n",
    "import pandas as pd\n",
    "import matplotlib.pyplot as plt\n",
    "import seaborn as sns\n",
    "from sklearn.datasets import fetch_california_housing\n",
    "from sklearn.model_selection import train_test_split\n",
    "from sklearn.preprocessing import StandardScaler\n",
    "from sklearn.linear_model import LinearRegression\n",
    "from sklearn.tree import DecisionTreeRegressor\n",
    "from sklearn.ensemble import RandomForestRegressor, GradientBoostingRegressor\n",
    "from sklearn.svm import SVR\n",
    "from sklearn.metrics import mean_squared_error, mean_absolute_error, r2_score\n"
   ]
  },
  {
   "cell_type": "markdown",
   "id": "cb0338d6-ccac-4a67-bfdb-fc7203bd4b90",
   "metadata": {},
   "source": [
    "## Step 2: Load and Preprocess the Dataset\n",
    "### Actions:\n",
    "1. Load the California Housing dataset using `fetch_california_housing()`\n",
    "2. Convert the dataset into a Pandas DataFrame for easier handling.\n",
    "3. Check for missing values.\n",
    "4. Scale the features using `StandardScaler()` to standardize data distribution.\n"
   ]
  },
  {
   "cell_type": "code",
   "execution_count": 24,
   "id": "eb3ebb94-015c-4e5e-a716-249e592202d3",
   "metadata": {},
   "outputs": [
    {
     "name": "stdout",
     "output_type": "stream",
     "text": [
      "   MedInc  HouseAge  AveRooms  AveBedrms  Population  AveOccup  Latitude  \\\n",
      "0  8.3252      41.0  6.984127   1.023810       322.0  2.555556     37.88   \n",
      "1  8.3014      21.0  6.238137   0.971880      2401.0  2.109842     37.86   \n",
      "2  7.2574      52.0  8.288136   1.073446       496.0  2.802260     37.85   \n",
      "3  5.6431      52.0  5.817352   1.073059       558.0  2.547945     37.85   \n",
      "4  3.8462      52.0  6.281853   1.081081       565.0  2.181467     37.85   \n",
      "\n",
      "   Longitude  Target  \n",
      "0    -122.23   4.526  \n",
      "1    -122.22   3.585  \n",
      "2    -122.24   3.521  \n",
      "3    -122.25   3.413  \n",
      "4    -122.25   3.422  \n"
     ]
    }
   ],
   "source": [
    "# Load dataset\n",
    "\n",
    "data = fetch_california_housing()\n",
    "df = pd.DataFrame(data.data, columns=data.feature_names)\n",
    "df['Target'] = data.target  # Add target column\n",
    "print(df.head())"
   ]
  },
  {
   "cell_type": "code",
   "execution_count": 25,
   "id": "b137e56c-6a43-4bff-aec8-b3fec8f17edf",
   "metadata": {},
   "outputs": [
    {
     "name": "stdout",
     "output_type": "stream",
     "text": [
      "Missing values: 0\n"
     ]
    }
   ],
   "source": [
    "# Check for missing values\n",
    "\n",
    "print(\"Missing values:\", df.isnull().sum().sum())"
   ]
  },
  {
   "cell_type": "code",
   "execution_count": 27,
   "id": "caebe46c-35cb-427c-8679-0ce43daadc5d",
   "metadata": {},
   "outputs": [
    {
     "name": "stdout",
     "output_type": "stream",
     "text": [
      "     MedInc  HouseAge  AveRooms  AveBedrms  Population  AveOccup  Latitude  \\\n",
      "0  2.344766  0.982143  0.628559  -0.153758   -0.974429 -0.049597  1.052548   \n",
      "1  2.332238 -0.607019  0.327041  -0.263336    0.861439 -0.092512  1.043185   \n",
      "2  1.782699  1.856182  1.155620  -0.049016   -0.820777 -0.025843  1.038503   \n",
      "3  0.932968  1.856182  0.156966  -0.049833   -0.766028 -0.050329  1.038503   \n",
      "4 -0.012881  1.856182  0.344711  -0.032906   -0.759847 -0.085616  1.038503   \n",
      "\n",
      "   Longitude  Target  \n",
      "0  -1.327835   4.526  \n",
      "1  -1.322844   3.585  \n",
      "2  -1.332827   3.521  \n",
      "3  -1.337818   3.413  \n",
      "4  -1.337818   3.422  \n"
     ]
    }
   ],
   "source": [
    "# Feature scaling\n",
    "\n",
    "# Initialize scaler\n",
    "scaler = StandardScaler()\n",
    "\n",
    "# Scale the features (excluding the target column)\n",
    "df_scaled = pd.DataFrame(scaler.fit_transform(df.drop(columns=['Target'])), columns=df.columns[:-1])\n",
    "\n",
    "# Add the scaled target column separately (optional)\n",
    "df_scaled['Target'] = df['Target']  # Keeping the target unscaled for interpretation\n",
    "\n",
    "\n",
    "# Display the first few rows of the scaled DataFrame\n",
    "print(df_scaled.head())"
   ]
  },
  {
   "cell_type": "markdown",
   "id": "1ecdb155-2719-4687-b5d1-6c527b7b6d60",
   "metadata": {},
   "source": [
    "## Step 3: Split Data into Training & Testing Sets\n",
    "### Actions:\n",
    "- Define features (`X`) and target variable (`y`).\n",
    "- Split the dataset into **80% training and 20% testing** using `train_test_split()`.\n"
   ]
  },
  {
   "cell_type": "code",
   "execution_count": 28,
   "id": "6eda2348-c42e-4b61-8804-a95aa8cf2be0",
   "metadata": {},
   "outputs": [
    {
     "name": "stdout",
     "output_type": "stream",
     "text": [
      "Training data shape: (16512, 8), (16512,)\n",
      "Testing data shape: (4128, 8), (4128,)\n"
     ]
    }
   ],
   "source": [
    "# Split Data into Training & Testing Sets\n",
    "\n",
    "# Define features (X) and target variable (y)\n",
    "X = df_scaled.drop(columns=['Target'])  # Features\n",
    "y = df_scaled['Target']  # Target variable\n",
    "\n",
    "# Split the dataset into 80% training and 20% testing\n",
    "X_train, X_test, y_train, y_test = train_test_split(X, y, test_size=0.2, random_state=42)\n",
    "\n",
    "# Print shapes of datasets\n",
    "print(f\"Training data shape: {X_train.shape}, {y_train.shape}\")\n",
    "print(f\"Testing data shape: {X_test.shape}, {y_test.shape}\")\n"
   ]
  },
  {
   "cell_type": "markdown",
   "id": "01e88816-2a1b-4738-808a-f4a5f22c5499",
   "metadata": {},
   "source": [
    "## Step 4: Implement Regression Models\n",
    "### Actions:\n",
    "- Define and initialize multiple regression models:\n",
    "  - **Linear Regression**\n",
    "  - **Decision Tree Regressor**\n",
    "  - **Random Forest Regressor**\n",
    "  - **Gradient Boosting Regressor**\n",
    "  - **Support Vector Regressor (SVR)**\n",
    "- Train each model using the `fit()` function.\n"
   ]
  },
  {
   "cell_type": "code",
   "execution_count": 45,
   "id": "07a6bc73-b4c3-46be-abf4-6b85c37c546e",
   "metadata": {},
   "outputs": [],
   "source": [
    "# Define models\n",
    "models = {\n",
    "    \"Linear Regression\": LinearRegression(),\n",
    "    \"Decision Tree Regressor\": DecisionTreeRegressor(),\n",
    "    \"Random Forest Regressor\": RandomForestRegressor(),\n",
    "    \"Gradient Boosting Regressor\": GradientBoostingRegressor(),\n",
    "    \"Support Vector Regressor\": SVR()\n",
    "}\n",
    "# Train models\n",
    "trained_models = {}  # Dictionary to store trained models\n",
    "for name, model in models.items():\n",
    "    model.fit(X_train, y_train)  # Fit the model\n",
    "    trained_models[name] = model  # Store trained model\n"
   ]
  },
  {
   "cell_type": "markdown",
   "id": "96785ea3-17a7-4165-b71d-f9477166bbed",
   "metadata": {},
   "source": [
    "## Step 5: Make Predictions\n",
    "### Actions:\n",
    "- Predict housing prices using trained models.\n",
    "- Store predictions for evaluation.\n"
   ]
  },
  {
   "cell_type": "code",
   "execution_count": 46,
   "id": "671f59d8-e878-47ad-aa86-536e2bf7fbb3",
   "metadata": {},
   "outputs": [
    {
     "name": "stdout",
     "output_type": "stream",
     "text": [
      "Sample Predictions - Linear Regression:\n",
      "[0.71912284 1.76401657 2.70965883 2.83892593 2.60465725 2.01175367\n",
      " 2.64550005 2.16875532 2.74074644 3.91561473]\n"
     ]
    }
   ],
   "source": [
    "# Store predictions\n",
    "predictions = {}\n",
    "for name, model in trained_models.items():\n",
    "    y_pred = model.predict(X_test)  # Predict values\n",
    "    predictions[name] = y_pred  # Store predictions\n",
    "\n",
    "# Display sample predictions for Linear Regression\n",
    "print(\"Sample Predictions - Linear Regression:\")\n",
    "print(predictions[\"Linear Regression\"][:10])"
   ]
  },
  {
   "cell_type": "markdown",
   "id": "7c0f3961-5573-4d64-9ef5-bd9860b56794",
   "metadata": {},
   "source": [
    "## Step 6: Evaluate Model Performance\n",
    "### Actions:\n",
    "- Compute **Mean Squared Error (MSE)**, **Mean Absolute Error (MAE)**, and **R² Score**.\n",
    "- Compare results for each model.\n"
   ]
  },
  {
   "cell_type": "code",
   "execution_count": 47,
   "id": "63db5272-7ee6-4a8d-9844-dd49468e5e19",
   "metadata": {},
   "outputs": [
    {
     "name": "stdout",
     "output_type": "stream",
     "text": [
      "                                  MSE       MAE  R² Score\n",
      "Linear Regression            0.555892  0.533200  0.575788\n",
      "Decision Tree Regressor      0.498307  0.454555  0.619732\n",
      "Random Forest Regressor      0.254266  0.326914  0.805965\n",
      "Gradient Boosting Regressor  0.294080  0.371723  0.775581\n",
      "Support Vector Regressor     0.355198  0.397763  0.728941\n"
     ]
    }
   ],
   "source": [
    "# Compute performance metrics (MSE, MAE, R² Score)\n",
    "results = {}\n",
    "\n",
    "for name, model in trained_models.items():\n",
    "    y_pred = model.predict(X_test)\n",
    "    \n",
    "    mse = mean_squared_error(y_test, y_pred)\n",
    "    mae = mean_absolute_error(y_test, y_pred)\n",
    "    r2 = r2_score(y_test, y_pred)\n",
    "    \n",
    "    results[name] = {\"MSE\": mse, \"MAE\": mae, \"R² Score\": r2}\n",
    "\n",
    "# Convert results into a DataFrame for comparison\n",
    "results_df = pd.DataFrame(results).T\n",
    "print(results_df)\n"
   ]
  },
  {
   "cell_type": "markdown",
   "id": "32cf4d24-5c52-4a96-a659-e46c9d8a8a41",
   "metadata": {},
   "source": [
    "## Step 7: Compare Model Performances\n",
    "### Actions:\n",
    "- Visualize model performance using bar plots.\n",
    "- Identify best and worst-performing models.\n"
   ]
  },
  {
   "cell_type": "code",
   "execution_count": 41,
   "id": "c058e6ec-64c7-4c86-9140-a3b78051ee92",
   "metadata": {},
   "outputs": [
    {
     "data": {
      "image/png": "[encoded data removed]",
      "text/plain": [
       "<Figure size 1200x500 with 1 Axes>"
      ]
     },
     "metadata": {},
     "output_type": "display_data"
    }
   ],
   "source": [
    "# Visualize performance comparison using bar plots\n",
    "plt.figure(figsize=(12, 5))\n",
    "sns.barplot(data=results_df)\n",
    "plt.xticks(rotation=0)\n",
    "plt.title(\"Regression Model Performance Comparison\")\n",
    "plt.show()\n"
   ]
  },
  {
   "cell_type": "code",
   "execution_count": 43,
   "id": "4e9c3af0-dd35-4d8e-827b-7ca58d5e8bb2",
   "metadata": {},
   "outputs": [
    {
     "name": "stdout",
     "output_type": "stream",
     "text": [
      " Best Performing Model: Random Forest Regressor\n",
      " Worst Performing Model: Linear Regression\n"
     ]
    }
   ],
   "source": [
    "# Identify best and worst performing models\n",
    "best_model = results_df.idxmax()[\"R² Score\"]\n",
    "worst_model = results_df.idxmin()[\"R² Score\"]\n",
    "\n",
    "print(f\" Best Performing Model: {best_model}\")\n",
    "print(f\" Worst Performing Model: {worst_model}\")\n"
   ]
  }
 ],
 "metadata": {
  "kernelspec": {
   "display_name": "Python 3 (ipykernel)",
   "language": "python",
   "name": "python3"
  },
  "language_info": {
   "codemirror_mode": {
    "name": "ipython",
    "version": 3
   },
   "file_extension": ".py",
   "mimetype": "text/x-python",
   "name": "python",
   "nbconvert_exporter": "python",
   "pygments_lexer": "ipython3",
   "version": "3.12.7"
  }
 },
 "nbformat": 4,
 "nbformat_minor": 5
}
